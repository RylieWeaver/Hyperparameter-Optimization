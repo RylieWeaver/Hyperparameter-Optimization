{
  "nbformat": 4,
  "nbformat_minor": 0,
  "metadata": {
    "colab": {
      "provenance": [],
      "authorship_tag": "ABX9TyN2r6XQAig5P6ODnHn1mkoM",
      "include_colab_link": true
    },
    "kernelspec": {
      "name": "python3",
      "display_name": "Python 3"
    },
    "language_info": {
      "name": "python"
    }
  },
  "cells": [
    {
      "cell_type": "markdown",
      "metadata": {
        "id": "view-in-github",
        "colab_type": "text"
      },
      "source": [
        "<a href=\"https://colab.research.google.com/github/RylieWeaver/Hyperparameter-Optimization/blob/main/Population_Propagation.ipynb\" target=\"_parent\"><img src=\"https://colab.research.google.com/assets/colab-badge.svg\" alt=\"Open In Colab\"/></a>"
      ]
    },
    {
      "cell_type": "markdown",
      "source": [
        "### Population Propagation (Strategy) Comparison in DEAP (Distributed Evolutionary Algorithms in Python)"
      ],
      "metadata": {
        "id": "ZtHog_nlgYCA"
      }
    },
    {
      "cell_type": "markdown",
      "source": [
        "Compare the performance of the `simple` and `mu_plus_lambda` strategies in DEAP (w/ controlled number of evalutions). These strategies control how offspring and parents are carried into the next generation in the genetic algorithm. In a nutshell, `mu_plus_lambda` carries over the parents while `simple` does not."
      ],
      "metadata": {
        "id": "vrQTj-ZEgj0r"
      }
    },
    {
      "cell_type": "markdown",
      "source": [
        "### Setup"
      ],
      "metadata": {
        "id": "TFvOKo8YXgYO"
      }
    },
    {
      "cell_type": "code",
      "execution_count": 1,
      "metadata": {
        "colab": {
          "base_uri": "https://localhost:8080/"
        },
        "id": "SeSvmfvlnCuu",
        "outputId": "e9d1368e-30e7-4699-b9af-ffc8f86dc5e4"
      },
      "outputs": [
        {
          "output_type": "stream",
          "name": "stdout",
          "text": [
            "Collecting deap\n",
            "  Downloading deap-1.4.1-cp310-cp310-manylinux_2_5_x86_64.manylinux1_x86_64.manylinux_2_17_x86_64.manylinux2014_x86_64.whl (135 kB)\n",
            "\u001b[?25l     \u001b[90m━━━━━━━━━━━━━━━━━━━━━━━━━━━━━━━━━━━━━━━━\u001b[0m \u001b[32m0.0/135.4 kB\u001b[0m \u001b[31m?\u001b[0m eta \u001b[36m-:--:--\u001b[0m\r\u001b[2K     \u001b[91m━━━━━━━━━━━━━━━━━━━━━\u001b[0m\u001b[90m╺\u001b[0m\u001b[90m━━━━━━━━━━━━━━━━━━\u001b[0m \u001b[32m71.7/135.4 kB\u001b[0m \u001b[31m2.1 MB/s\u001b[0m eta \u001b[36m0:00:01\u001b[0m\r\u001b[2K     \u001b[90m━━━━━━━━━━━━━━━━━━━━━━━━━━━━━━━━━━━━━━━━\u001b[0m \u001b[32m135.4/135.4 kB\u001b[0m \u001b[31m2.8 MB/s\u001b[0m eta \u001b[36m0:00:00\u001b[0m\n",
            "\u001b[?25hRequirement already satisfied: numpy in /usr/local/lib/python3.10/dist-packages (from deap) (1.23.5)\n",
            "Installing collected packages: deap\n",
            "Successfully installed deap-1.4.1\n"
          ]
        }
      ],
      "source": [
        "!pip install deap"
      ]
    },
    {
      "cell_type": "code",
      "source": [
        "import random\n",
        "from deap import base, creator, tools, algorithms\n",
        "import numpy as np\n",
        "import matplotlib.pyplot as plt\n",
        "from matplotlib.colors import LinearSegmentedColormap"
      ],
      "metadata": {
        "id": "BBNFZ7c8oZ9P"
      },
      "execution_count": 2,
      "outputs": []
    },
    {
      "cell_type": "code",
      "source": [
        "n=16\n",
        "cxpb=0.2\n",
        "cx_indpb=0.5\n",
        "mutpb=0.8\n",
        "mut_indpb=1\n",
        "tournsize=4"
      ],
      "metadata": {
        "id": "aKKr6bXsOtFz"
      },
      "execution_count": 3,
      "outputs": []
    },
    {
      "cell_type": "markdown",
      "source": [
        "### Strategies"
      ],
      "metadata": {
        "id": "wVqv_6NkVz9Z"
      }
    },
    {
      "cell_type": "code",
      "source": [
        "def mu_plus_lambda():\n",
        "\n",
        "    pop = toolbox.population(n)\n",
        "    hof = tools.HallOfFame(1)\n",
        "    stats = tools.Statistics(lambda ind: ind.fitness.values)\n",
        "    stats.register(\"avg\", np.mean)\n",
        "    stats.register(\"min\", np.min)\n",
        "    stats.register(\"max\", np.max)\n",
        "\n",
        "    # Parameters for the mu+lambda algorithm\n",
        "    mu = len(pop)\n",
        "    lambda_ = round(0.5*len(pop)) # Offspring is half the size of population\n",
        "\n",
        "    pop, log = algorithms.eaMuPlusLambda(pop, toolbox, mu, lambda_, cxpb, mutpb,  # mutpb, cxpb is the mutation and crossover probability\n",
        "                                         ngen=5, stats=stats, halloffame=hof, verbose=False)\n",
        "\n",
        "    return pop, log, hof\n",
        "\n",
        "# pop, log, hof = mu_plus_lambda()\n",
        "\n",
        "# Print best individual\n",
        "# best_individual = (hof[0], hof[0].fitness.values[0])\n",
        "# print(\"Best individual is: %s\\nWith fitness: %s\" % best_individual)"
      ],
      "metadata": {
        "id": "D4wjeymuTvsu"
      },
      "execution_count": 4,
      "outputs": []
    },
    {
      "cell_type": "code",
      "source": [
        "def simple():\n",
        "    # Create initial population\n",
        "    pop = toolbox.population(int(n/2))\n",
        "    hof = tools.HallOfFame(1)\n",
        "    stats = tools.Statistics(lambda ind: ind.fitness.values)\n",
        "    stats.register(\"avg\", np.mean)\n",
        "    stats.register(\"std\", np.std)\n",
        "    stats.register(\"min\", np.min)\n",
        "    stats.register(\"max\", np.max)\n",
        "\n",
        "    pop, log = algorithms.eaSimple(pop, toolbox, cxpb, mutpb,  # mutpb, cxpb is the mutation and crossover probability\n",
        "                                   ngen=6, stats=stats, halloffame=hof, verbose=False)\n",
        "\n",
        "    return pop, log, hof\n",
        "\n",
        "# pop, log, hof = simple()\n",
        "\n",
        "# Print best individual\n",
        "# best_individual = (hof[0], hof[0].fitness.values[0])\n",
        "# print(\"Best individual is: %s\\nWith fitness: %s\" % best_individual)"
      ],
      "metadata": {
        "id": "hkDwGlatTzVn"
      },
      "execution_count": 5,
      "outputs": []
    },
    {
      "cell_type": "markdown",
      "source": [
        "### OneD"
      ],
      "metadata": {
        "id": "ksVkMSQVITI1"
      }
    },
    {
      "cell_type": "code",
      "source": [
        "params = []\n",
        "fitnesses = []\n",
        "\n",
        "def fitness(individual):\n",
        "    x = individual[0]\n",
        "    y = 0.02 * x + 0.5 * np.sin(1 * x + 0.1) + 0.75 * np.cos(0.25 * x - 0.3)\n",
        "\n",
        "    # Log the parameters and fitness for plotting\n",
        "    params.append(x)\n",
        "    fitnesses.append(y)\n",
        "\n",
        "    return y,\n",
        "\n",
        "# Define the individual and the population\n",
        "creator.create(\"FitnessMin\", base.Fitness, weights=(-1.0,))\n",
        "creator.create(\"Individual\", list, fitness=creator.FitnessMin)\n",
        "\n",
        "toolbox = base.Toolbox()\n",
        "toolbox.register(\"attr_float\", random.uniform, 0, 20)  # Create random numbers between 0 and 20\n",
        "toolbox.register(\"individual\", tools.initRepeat, creator.Individual, toolbox.attr_float, n=1)\n",
        "toolbox.register(\"population\", tools.initRepeat, list, toolbox.individual)\n",
        "\n",
        "# Define the evaluation function\n",
        "toolbox.register(\"evaluate\", fitness)\n",
        "\n",
        "# Make decorator to keep mutation within bounds\n",
        "def checkBounds(min, max):\n",
        "    def decorator(func):\n",
        "        def wrapper(*args, **kargs):\n",
        "            offspring = func(*args, **kargs)\n",
        "            for child in offspring:\n",
        "                for i in range(len(child)):\n",
        "                    if child[i] > max:\n",
        "                        child[i] = max\n",
        "                    elif child[i] < min:\n",
        "                        child[i] = min\n",
        "            return offspring\n",
        "        return wrapper\n",
        "    return decorator\n",
        "\n",
        "toolbox.register(\"mutate\", tools.mutGaussian, mu=0, sigma=3, indpb=mut_indpb)  # Gaussian mutation\n",
        "toolbox.decorate(\"mutate\", checkBounds(0, 20))  # Keep mutation within bounds\n",
        "toolbox.register(\"mate\", tools.cxUniform, indpb=cx_indpb)  # indpb is the probability of each attribute to be exchanged\n",
        "toolbox.register(\"select\", tools.selTournament, tournsize=tournsize) # Selection operator"
      ],
      "metadata": {
        "id": "R5Ox6PdjoUYt"
      },
      "execution_count": 6,
      "outputs": []
    },
    {
      "cell_type": "markdown",
      "source": [
        "### 2D Sphere"
      ],
      "metadata": {
        "id": "bZj5Vm95IYEp"
      }
    },
    {
      "cell_type": "code",
      "source": [
        "params1 = []\n",
        "params2 = []\n",
        "fitnesses = []\n",
        "\n",
        "def fitness(individual):\n",
        "    x1 = individual[0]\n",
        "    x2 = individual[1]\n",
        "    y = x1**2 + x2**2\n",
        "\n",
        "    # Log the parameters and fitness for plotting\n",
        "    params1.append(x1)\n",
        "    params2.append(x2)\n",
        "    fitnesses.append(y)\n",
        "\n",
        "    return (y),\n",
        "\n",
        "# Define the individual and the population\n",
        "creator.create(\"FitnessMin\", base.Fitness, weights=(-1.0,))\n",
        "creator.create(\"Individual\", list, fitness=creator.FitnessMin)\n",
        "\n",
        "toolbox = base.Toolbox()\n",
        "toolbox.register(\"attr_bool\", random.uniform, -5, 5)\n",
        "toolbox.register(\"individual\", tools.initRepeat, creator.Individual, toolbox.attr_bool, n=2)\n",
        "toolbox.register(\"population\", tools.initRepeat, list, toolbox.individual)\n",
        "\n",
        "toolbox.register(\"evaluate\", fitness)\n",
        "toolbox.register(\"mate\", tools.cxUniform, indpb=cx_indpb)\n",
        "toolbox.register(\"mutate\", tools.mutGaussian, mu=0, sigma=3, indpb=mut_indpb)\n",
        "toolbox.register(\"select\", tools.selTournament, tournsize=tournsize)"
      ],
      "metadata": {
        "colab": {
          "base_uri": "https://localhost:8080/"
        },
        "id": "3UQDciDyJbUN",
        "outputId": "13fff4d8-779c-491d-fa47-858a2dcab7ce"
      },
      "execution_count": 9,
      "outputs": [
        {
          "output_type": "stream",
          "name": "stderr",
          "text": [
            "/usr/local/lib/python3.10/dist-packages/deap/creator.py:185: RuntimeWarning: A class named 'FitnessMin' has already been created and it will be overwritten. Consider deleting previous creation of that class or rename it.\n",
            "  warnings.warn(\"A class named '{0}' has already been created and it \"\n",
            "/usr/local/lib/python3.10/dist-packages/deap/creator.py:185: RuntimeWarning: A class named 'Individual' has already been created and it will be overwritten. Consider deleting previous creation of that class or rename it.\n",
            "  warnings.warn(\"A class named '{0}' has already been created and it \"\n"
          ]
        }
      ]
    },
    {
      "cell_type": "markdown",
      "source": [
        "### Rastigin"
      ],
      "metadata": {
        "id": "tasWV44DSb5E"
      }
    },
    {
      "cell_type": "code",
      "source": [
        "params1 = []\n",
        "params2 = []\n",
        "fitnesses = []\n",
        "\n",
        "def fitness(individual):\n",
        "    x1 = individual[0]\n",
        "    x2 = individual[1]\n",
        "    y = 20 + ((x1/np.pi)**2 - 10 * np.cos(2 * (x1/np.pi))) + ((x2/np.pi)**2 - 10 * np.cos(2 * (x2/np.pi)))\n",
        "\n",
        "    # Log the parameters and fitness for plotting\n",
        "    params1.append(x1)\n",
        "    params2.append(x2)\n",
        "    fitnesses.append(y)\n",
        "\n",
        "    return (y),\n",
        "\n",
        "# Define the individual and the population\n",
        "creator.create(\"FitnessMin\", base.Fitness, weights=(-1.0,))\n",
        "creator.create(\"Individual\", list, fitness=creator.FitnessMin)\n",
        "\n",
        "toolbox = base.Toolbox()\n",
        "toolbox.register(\"attr_bool\", random.uniform, -10, 10)\n",
        "toolbox.register(\"individual\", tools.initRepeat, creator.Individual, toolbox.attr_bool, n=2)\n",
        "toolbox.register(\"population\", tools.initRepeat, list, toolbox.individual)\n",
        "\n",
        "toolbox.register(\"evaluate\", fitness)\n",
        "toolbox.register(\"mate\", tools.cxUniform, indpb=cx_indpb)\n",
        "toolbox.register(\"mutate\", tools.mutGaussian, mu=0, sigma=3, indpb=mut_indpb)\n",
        "toolbox.register(\"select\", tools.selTournament, tournsize=tournsize)"
      ],
      "metadata": {
        "id": "GOcGieSNSjG_"
      },
      "execution_count": 12,
      "outputs": []
    },
    {
      "cell_type": "markdown",
      "source": [
        "### Beale"
      ],
      "metadata": {
        "id": "69L98nlWbIXN"
      }
    },
    {
      "cell_type": "code",
      "source": [
        "params1 = []\n",
        "params2 = []\n",
        "fitnesses = []\n",
        "\n",
        "def fitness(individual):\n",
        "    x1 = individual[0]\n",
        "    x2 = individual[1]\n",
        "    term1 = (1.5 - x1 + x1 * x2) ** 2\n",
        "    term2 = (2.25 - x1 + x1 * x2 ** 2) ** 2\n",
        "    term3 = (2.625 - x1 + x1 * x2 ** 3) ** 2\n",
        "    y = term1 + term2 + term3\n",
        "\n",
        "    # Log the parameters and fitness for plotting\n",
        "    params1.append(x1)\n",
        "    params2.append(x2)\n",
        "    fitnesses.append(y)\n",
        "\n",
        "    return (y),\n",
        "\n",
        "# Define the individual and the population\n",
        "creator.create(\"FitnessMin\", base.Fitness, weights=(-1.0,))\n",
        "creator.create(\"Individual\", list, fitness=creator.FitnessMin)\n",
        "\n",
        "toolbox = base.Toolbox()\n",
        "toolbox.register(\"attr_bool\", random.uniform, -10, 10)\n",
        "toolbox.register(\"individual\", tools.initRepeat, creator.Individual, toolbox.attr_bool, n=2)\n",
        "toolbox.register(\"population\", tools.initRepeat, list, toolbox.individual)\n",
        "\n",
        "toolbox.register(\"evaluate\", fitness)\n",
        "toolbox.register(\"mate\", tools.cxUniform, indpb=cx_indpb)\n",
        "toolbox.register(\"mutate\", tools.mutGaussian, mu=0, sigma=3, indpb=mut_indpb)\n",
        "toolbox.register(\"select\", tools.selTournament, tournsize=tournsize)"
      ],
      "metadata": {
        "id": "6swm3FRtbKkB"
      },
      "execution_count": 15,
      "outputs": []
    },
    {
      "cell_type": "markdown",
      "source": [
        "### Himmelblau's"
      ],
      "metadata": {
        "id": "oNNIpsV5cHMj"
      }
    },
    {
      "cell_type": "code",
      "source": [
        "params1 = []\n",
        "params2 = []\n",
        "params3 = []\n",
        "fitnesses = []\n",
        "\n",
        "def fitness(individual):\n",
        "    x1 = individual[0]\n",
        "    x2 = individual[1]\n",
        "    x3 = individual[2]\n",
        "    term1 = (x1 ** 2 + x2 - 17) ** 2\n",
        "    term2 = (x1 + x2 ** 2 - 4) ** 2\n",
        "    term3 = (x1 ** 2 + x3 - 11) ** 2\n",
        "    term4 = (x1 + x3 ** 2 + 13) ** 2\n",
        "    y = term1 + term2 + term3\n",
        "\n",
        "    # Log the parameters and fitness for plotting\n",
        "    params1.append(x1)\n",
        "    params2.append(x2)\n",
        "    params3.append(x3)\n",
        "    fitnesses.append(y)\n",
        "\n",
        "    return (y),\n",
        "\n",
        "# Define the individual and the population\n",
        "creator.create(\"FitnessMin\", base.Fitness, weights=(-1.0,))\n",
        "creator.create(\"Individual\", list, fitness=creator.FitnessMin)\n",
        "\n",
        "toolbox = base.Toolbox()\n",
        "toolbox.register(\"attr_bool\", random.uniform, -10, 10)\n",
        "toolbox.register(\"individual\", tools.initRepeat, creator.Individual, toolbox.attr_bool, n=3)\n",
        "toolbox.register(\"population\", tools.initRepeat, list, toolbox.individual)\n",
        "\n",
        "toolbox.register(\"evaluate\", fitness)\n",
        "toolbox.register(\"mate\", tools.cxUniform, indpb=cx_indpb)\n",
        "toolbox.register(\"mutate\", tools.mutGaussian, mu=0, sigma=3, indpb=mut_indpb)\n",
        "toolbox.register(\"select\", tools.selTournament, tournsize=tournsize)"
      ],
      "metadata": {
        "id": "OBkH0U3HcMBa"
      },
      "execution_count": 18,
      "outputs": []
    },
    {
      "cell_type": "markdown",
      "source": [
        "### Compare Average"
      ],
      "metadata": {
        "id": "lYCJpvOrT3nw"
      }
    },
    {
      "cell_type": "markdown",
      "source": [
        "OneD:"
      ],
      "metadata": {
        "id": "kqHqPybGhDK6"
      }
    },
    {
      "cell_type": "code",
      "source": [
        "min_scores = []\n",
        "max_scores = []\n",
        "\n",
        "for i in range(5000):\n",
        "  pop, log, hof = mu_plus_lambda()\n",
        "  min_scores.append(hof[0].fitness.values[0])\n",
        "  max_scores.append(log[-1]['max'])\n",
        "\n",
        "print(f\"Average Min: {np.mean(min_scores)}\")\n",
        "print(f\"Median Min: {np.median(min_scores)}\")\n",
        "print(f\"Min STD: {np.std(min_scores)}\")\n",
        "print(f\"Average Max: {np.mean(max_scores)}\")\n",
        "print(f\"Median Max: {np.median(max_scores)}\")\n",
        "print(f\"Max STD: {np.std(max_scores)}\")"
      ],
      "metadata": {
        "colab": {
          "base_uri": "https://localhost:8080/"
        },
        "id": "QWxArURiTacm",
        "outputId": "eac3de3d-1360-4f8d-e9d0-4025b9a49706"
      },
      "execution_count": 7,
      "outputs": [
        {
          "output_type": "stream",
          "name": "stdout",
          "text": [
            "Average Min: -0.8430130231743078\n",
            "Median Min: -0.8547098181438396\n",
            "Min STD: 0.03377832289275117\n",
            "Average Max: -0.7850955096631104\n",
            "Median Max: -0.8337742113412155\n",
            "Max STD: 0.12469755800715975\n"
          ]
        }
      ]
    },
    {
      "cell_type": "code",
      "source": [
        "min_scores = []\n",
        "max_scores = []\n",
        "\n",
        "for i in range(5000):\n",
        "  pop, log, hof = simple()\n",
        "  min_scores.append(hof[0].fitness.values[0])\n",
        "  max_scores.append(log[-1]['max'])\n",
        "\n",
        "print(f\"Average Min: {np.mean(min_scores)}\")\n",
        "print(f\"Median Min: {np.median(min_scores)}\")\n",
        "print(f\"Min STD: {np.std(min_scores)}\")\n",
        "print(f\"Average Max: {np.mean(max_scores)}\")\n",
        "print(f\"Median Max: {np.median(max_scores)}\")\n",
        "print(f\"Max STD: {np.std(max_scores)}\")"
      ],
      "metadata": {
        "colab": {
          "base_uri": "https://localhost:8080/"
        },
        "id": "VM6n80U8T2uv",
        "outputId": "cf055494-dd7f-4d09-e791-068e035aaca7"
      },
      "execution_count": 8,
      "outputs": [
        {
          "output_type": "stream",
          "name": "stdout",
          "text": [
            "Average Min: -0.8426792711633881\n",
            "Median Min: -0.855078616581745\n",
            "Min STD: 0.035279305428873434\n",
            "Average Max: 0.47060147291465954\n",
            "Median Max: 0.5538483958511367\n",
            "Max STD: 0.32672940402006445\n"
          ]
        }
      ]
    },
    {
      "cell_type": "markdown",
      "source": [
        "2D Sphere:"
      ],
      "metadata": {
        "id": "-gl_grB8hQwS"
      }
    },
    {
      "cell_type": "code",
      "source": [
        "min_scores = []\n",
        "max_scores = []\n",
        "\n",
        "for i in range(5000):\n",
        "  pop, log, hof = mu_plus_lambda()\n",
        "  min_scores.append(hof[0].fitness.values[0])\n",
        "  max_scores.append(log[-1]['max'])\n",
        "\n",
        "print(f\"Average Min: {np.mean(min_scores)}\")\n",
        "print(f\"Median Min: {np.median(min_scores)}\")\n",
        "print(f\"Min STD: {np.std(min_scores)}\")\n",
        "print(f\"Average Max: {np.mean(max_scores)}\")\n",
        "print(f\"Median Max: {np.median(max_scores)}\")\n",
        "print(f\"Max STD: {np.std(max_scores)}\")"
      ],
      "metadata": {
        "colab": {
          "base_uri": "https://localhost:8080/"
        },
        "outputId": "e39b6c7f-1d78-4832-fcda-240d2a85355b",
        "id": "GQL7Np2MhQwT"
      },
      "execution_count": 10,
      "outputs": [
        {
          "output_type": "stream",
          "name": "stdout",
          "text": [
            "Average Min: 0.4884895725859049\n",
            "Median Min: 0.3218446636109639\n",
            "Min STD: 0.5168494019006074\n",
            "Average Max: 1.8202852615250085\n",
            "Median Max: 1.085942388550384\n",
            "Max STD: 2.8041172374192813\n"
          ]
        }
      ]
    },
    {
      "cell_type": "code",
      "source": [
        "min_scores = []\n",
        "max_scores = []\n",
        "\n",
        "for i in range(5000):\n",
        "  pop, log, hof = simple()\n",
        "  min_scores.append(hof[0].fitness.values[0])\n",
        "  max_scores.append(log[-1]['max'])\n",
        "\n",
        "print(f\"Average Min: {np.mean(min_scores)}\")\n",
        "print(f\"Median Min: {np.median(min_scores)}\")\n",
        "print(f\"Min STD: {np.std(min_scores)}\")\n",
        "print(f\"Average Max: {np.mean(max_scores)}\")\n",
        "print(f\"Median Max: {np.median(max_scores)}\")\n",
        "print(f\"Max STD: {np.std(max_scores)}\")"
      ],
      "metadata": {
        "colab": {
          "base_uri": "https://localhost:8080/"
        },
        "id": "K1CyNx_thQwT",
        "outputId": "0dc63e49-5213-4a8e-a5de-5d2d9f3adb77"
      },
      "execution_count": 11,
      "outputs": [
        {
          "output_type": "stream",
          "name": "stdout",
          "text": [
            "Average Min: 0.5692157688963475\n",
            "Median Min: 0.37229657542566064\n",
            "Min STD: 0.6208141535886474\n",
            "Average Max: 57.73519142057723\n",
            "Median Max: 52.46739949478842\n",
            "Max STD: 29.384859909845513\n"
          ]
        }
      ]
    },
    {
      "cell_type": "markdown",
      "source": [
        "Rastigin:"
      ],
      "metadata": {
        "id": "yltluL8rhWpM"
      }
    },
    {
      "cell_type": "code",
      "source": [
        "min_scores = []\n",
        "max_scores = []\n",
        "\n",
        "for i in range(5000):\n",
        "  pop, log, hof = mu_plus_lambda()\n",
        "  min_scores.append(hof[0].fitness.values[0])\n",
        "  max_scores.append(log[-1]['max'])\n",
        "\n",
        "print(f\"Average Min: {np.mean(min_scores)}\")\n",
        "print(f\"Median Min: {np.median(min_scores)}\")\n",
        "print(f\"Min STD: {np.std(min_scores)}\")\n",
        "print(f\"Average Max: {np.mean(max_scores)}\")\n",
        "print(f\"Median Max: {np.median(max_scores)}\")\n",
        "print(f\"Max STD: {np.std(max_scores)}\")"
      ],
      "metadata": {
        "colab": {
          "base_uri": "https://localhost:8080/"
        },
        "outputId": "077b74fe-a01a-415c-97ae-7f02a3a5275a",
        "id": "feqpKakxhWpM"
      },
      "execution_count": 13,
      "outputs": [
        {
          "output_type": "stream",
          "name": "stdout",
          "text": [
            "Average Min: 3.0619208040487815\n",
            "Median Min: 1.6349575217752363\n",
            "Min STD: 3.39516865897393\n",
            "Average Max: 7.205787505620005\n",
            "Median Max: 6.597815933208679\n",
            "Max STD: 5.086729748877683\n"
          ]
        }
      ]
    },
    {
      "cell_type": "code",
      "source": [
        "min_scores = []\n",
        "max_scores = []\n",
        "\n",
        "for i in range(5000):\n",
        "  pop, log, hof = simple()\n",
        "  min_scores.append(hof[0].fitness.values[0])\n",
        "  max_scores.append(log[-1]['max'])\n",
        "\n",
        "print(f\"Average Min: {np.mean(min_scores)}\")\n",
        "print(f\"Median Min: {np.median(min_scores)}\")\n",
        "print(f\"Min STD: {np.std(min_scores)}\")\n",
        "print(f\"Average Max: {np.mean(max_scores)}\")\n",
        "print(f\"Median Max: {np.median(max_scores)}\")\n",
        "print(f\"Max STD: {np.std(max_scores)}\")"
      ],
      "metadata": {
        "colab": {
          "base_uri": "https://localhost:8080/"
        },
        "id": "lIAsuUsMhWpM",
        "outputId": "cd382976-0145-46f7-a56d-705e88b9a514"
      },
      "execution_count": 14,
      "outputs": [
        {
          "output_type": "stream",
          "name": "stdout",
          "text": [
            "Average Min: 3.857030471288724\n",
            "Median Min: 1.9451428197398677\n",
            "Min STD: 4.042509064870627\n",
            "Average Max: 38.999892843137516\n",
            "Median Max: 38.51663491181185\n",
            "Max STD: 9.515172756701341\n"
          ]
        }
      ]
    },
    {
      "cell_type": "markdown",
      "source": [
        "Beale:"
      ],
      "metadata": {
        "id": "mrbUUeuqhfSK"
      }
    },
    {
      "cell_type": "code",
      "source": [
        "min_scores = []\n",
        "max_scores = []\n",
        "\n",
        "for i in range(5000):\n",
        "  pop, log, hof = mu_plus_lambda()\n",
        "  min_scores.append(hof[0].fitness.values[0])\n",
        "  max_scores.append(log[-1]['max'])\n",
        "\n",
        "print(f\"Average Min: {np.mean(min_scores)}\")\n",
        "print(f\"Median Min: {np.median(min_scores)}\")\n",
        "print(f\"Min STD: {np.std(min_scores)}\")\n",
        "print(f\"Average Max: {np.mean(max_scores)}\")\n",
        "print(f\"Median Max: {np.median(max_scores)}\")\n",
        "print(f\"Max STD: {np.std(max_scores)}\")"
      ],
      "metadata": {
        "colab": {
          "base_uri": "https://localhost:8080/"
        },
        "outputId": "3e602b5a-65b5-4537-e288-3bbe92b3448c",
        "id": "MfiIwSPlhfSK"
      },
      "execution_count": 16,
      "outputs": [
        {
          "output_type": "stream",
          "name": "stdout",
          "text": [
            "Average Min: 3.4807100273126066\n",
            "Median Min: 1.5675463910144405\n",
            "Min STD: 15.800073095569168\n",
            "Average Max: 426.21606503783204\n",
            "Median Max: 8.454185736491208\n",
            "Max STD: 14221.619691199054\n"
          ]
        }
      ]
    },
    {
      "cell_type": "code",
      "source": [
        "min_scores = []\n",
        "max_scores = []\n",
        "\n",
        "for i in range(5000):\n",
        "  pop, log, hof = simple()\n",
        "  min_scores.append(hof[0].fitness.values[0])\n",
        "  max_scores.append(log[-1]['max'])\n",
        "\n",
        "print(f\"Average Min: {np.mean(min_scores)}\")\n",
        "print(f\"Median Min: {np.median(min_scores)}\")\n",
        "print(f\"Min STD: {np.std(min_scores)}\")\n",
        "print(f\"Average Max: {np.mean(max_scores)}\")\n",
        "print(f\"Median Max: {np.median(max_scores)}\")\n",
        "print(f\"Max STD: {np.std(max_scores)}\")"
      ],
      "metadata": {
        "colab": {
          "base_uri": "https://localhost:8080/"
        },
        "id": "H7U1hdE0hfSK",
        "outputId": "90c76195-46b4-407e-9a15-868f3fba1051"
      },
      "execution_count": 17,
      "outputs": [
        {
          "output_type": "stream",
          "name": "stdout",
          "text": [
            "Average Min: 3.773292483763123\n",
            "Median Min: 1.4919236261128623\n",
            "Min STD: 27.631635669386235\n",
            "Average Max: 3401796.501326777\n",
            "Median Max: 308622.748592195\n",
            "Max STD: 16734796.546130804\n"
          ]
        }
      ]
    },
    {
      "cell_type": "markdown",
      "source": [
        "HimmelBlau:"
      ],
      "metadata": {
        "id": "b5c1G6_phjcZ"
      }
    },
    {
      "cell_type": "code",
      "source": [
        "min_scores = []\n",
        "max_scores = []\n",
        "\n",
        "for i in range(5000):\n",
        "  pop, log, hof = mu_plus_lambda()\n",
        "  min_scores.append(hof[0].fitness.values[0])\n",
        "  max_scores.append(log[-1]['max'])\n",
        "\n",
        "print(f\"Average Min: {np.mean(min_scores)}\")\n",
        "print(f\"Median Min: {np.median(min_scores)}\")\n",
        "print(f\"Min STD: {np.std(min_scores)}\")\n",
        "print(f\"Average Max: {np.mean(max_scores)}\")\n",
        "print(f\"Median Max: {np.median(max_scores)}\")\n",
        "print(f\"Max STD: {np.std(max_scores)}\")"
      ],
      "metadata": {
        "colab": {
          "base_uri": "https://localhost:8080/"
        },
        "outputId": "6a08248a-c30d-43d2-c953-57fb894f4030",
        "id": "ENPLxatvhjcZ"
      },
      "execution_count": 19,
      "outputs": [
        {
          "output_type": "stream",
          "name": "stdout",
          "text": [
            "Average Min: 38.41732252526253\n",
            "Median Min: 31.054906537632647\n",
            "Min STD: 30.669673449531466\n",
            "Average Max: 109.1181770508948\n",
            "Median Max: 78.12132977674997\n",
            "Max STD: 179.32201112952848\n"
          ]
        }
      ]
    },
    {
      "cell_type": "code",
      "source": [
        "min_scores = []\n",
        "max_scores = []\n",
        "\n",
        "for i in range(5000):\n",
        "  pop, log, hof = simple()\n",
        "  min_scores.append(hof[0].fitness.values[0])\n",
        "  max_scores.append(log[-1]['max'])\n",
        "\n",
        "print(f\"Average Min: {np.mean(min_scores)}\")\n",
        "print(f\"Median Min: {np.median(min_scores)}\")\n",
        "print(f\"Min STD: {np.std(min_scores)}\")\n",
        "print(f\"Average Max: {np.mean(max_scores)}\")\n",
        "print(f\"Median Max: {np.median(max_scores)}\")\n",
        "print(f\"Max STD: {np.std(max_scores)}\")"
      ],
      "metadata": {
        "colab": {
          "base_uri": "https://localhost:8080/"
        },
        "id": "h75_8aNrhjcZ",
        "outputId": "9dcc74c1-1630-41c4-ef00-d109aef6ecb8"
      },
      "execution_count": 20,
      "outputs": [
        {
          "output_type": "stream",
          "name": "stdout",
          "text": [
            "Average Min: 40.945985760253265\n",
            "Median Min: 32.55403223372173\n",
            "Min STD: 33.31063817045386\n",
            "Average Max: 7794.94501535162\n",
            "Median Max: 4738.526902553187\n",
            "Max STD: 9479.879750571885\n"
          ]
        }
      ]
    },
    {
      "cell_type": "markdown",
      "source": [
        "In these semi_simple cases, the `mu_plus_lambda` strategy outperforms the `simple` strategy."
      ],
      "metadata": {
        "id": "VKjMHhhrhpDQ"
      }
    }
  ]
}